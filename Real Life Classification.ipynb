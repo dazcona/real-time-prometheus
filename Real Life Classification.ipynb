{
 "cells": [
  {
   "cell_type": "markdown",
   "metadata": {},
   "source": [
    "# Real Life Classification\n",
    "\n",
    "https://github.com/matatusko/Real-Time-Object-Recognition-in-Keras/blob/master/realtime_classify.py"
   ]
  },
  {
   "cell_type": "code",
   "execution_count": 1,
   "metadata": {},
   "outputs": [
    {
     "name": "stderr",
     "output_type": "stream",
     "text": [
      "Using TensorFlow backend.\n"
     ]
    }
   ],
   "source": [
    "import tensorflow as tf\n",
    "from keras.applications import imagenet_utils\n",
    "from keras.applications import VGG16\n",
    "from keras.applications import ResNet50\n",
    "import cv2, threading\n",
    "import numpy as np\n",
    "import time"
   ]
  },
  {
   "cell_type": "code",
   "execution_count": 2,
   "metadata": {},
   "outputs": [],
   "source": [
    "# Initialize global variables to be used by the classification thread\n",
    "# and load up the network and save it as a tensorflow graph\n",
    "frame_to_predict = None\n",
    "classification = True\n",
    "label = ''\n",
    "score = .0"
   ]
  },
  {
   "cell_type": "code",
   "execution_count": 3,
   "metadata": {},
   "outputs": [
    {
     "name": "stdout",
     "output_type": "stream",
     "text": [
      "Loading network...\n",
      "Network loaded successfully!\n"
     ]
    }
   ],
   "source": [
    "print('Loading network...')\n",
    "# model = VGG16(weights='imagenet')\n",
    "model = ResNet50(weights='imagenet')\n",
    "graph = tf.get_default_graph()\n",
    "print('Network loaded successfully!')"
   ]
  },
  {
   "cell_type": "code",
   "execution_count": 4,
   "metadata": {},
   "outputs": [],
   "source": [
    "class MyThread(threading.Thread):\n",
    "    def __init__(self):\n",
    "        threading.Thread.__init__(self)\n",
    "\n",
    "    def run(self):\n",
    "        global label\n",
    "        global frame_to_predict\n",
    "        global classification\n",
    "        global model\n",
    "        global graph\n",
    "        global score\n",
    "        with graph.as_default():\n",
    "            while classification is True:\n",
    "                if frame_to_predict is not None:\n",
    "                    # Adjusting due to error\n",
    "                    if len(frame_to_predict.shape) == 4 and frame_to_predict.shape[0] == 1:\n",
    "                            frame_to_predict = frame_to_predict[0]\n",
    "                    # Predict\n",
    "                    frame_to_predict = cv2.cvtColor(frame_to_predict, cv2.COLOR_BGR2RGB).astype(np.float32)\n",
    "                    frame_to_predict = frame_to_predict.reshape((1, ) + frame_to_predict.shape)\n",
    "                    frame_to_predict = imagenet_utils.preprocess_input(frame_to_predict)\n",
    "                    predictions = model.predict(frame_to_predict)\n",
    "                    (imageID, label, score) = imagenet_utils.decode_predictions(predictions)[0][0]"
   ]
  },
  {
   "cell_type": "code",
   "execution_count": 5,
   "metadata": {},
   "outputs": [],
   "source": [
    "# Start a keras thread which will classify the frame returned by openCV\n",
    "keras_thread = MyThread()\n",
    "keras_thread.start()"
   ]
  },
  {
   "cell_type": "code",
   "execution_count": 6,
   "metadata": {},
   "outputs": [
    {
     "data": {
      "text/plain": [
       "True"
      ]
     },
     "execution_count": 6,
     "metadata": {},
     "output_type": "execute_result"
    }
   ],
   "source": [
    "# Initialize OpenCV video captue\n",
    "video_capture = cv2.VideoCapture(0) # Set to 1 for front camera\n",
    "video_capture.set(4, 800) # Width\n",
    "video_capture.set(5, 600) # Height"
   ]
  },
  {
   "cell_type": "code",
   "execution_count": 7,
   "metadata": {
    "collapsed": true
   },
   "outputs": [],
   "source": [
    "# Start the video capture loop\n",
    "while (True):\n",
    "\n",
    "    #print 'Getting video frame'\n",
    "    # Get the original frame from video capture\n",
    "    ret, original_frame = video_capture.read()\n",
    "\n",
    "    if ret: # check ! (some webcam's need a \"warmup\")\n",
    "\n",
    "            # Resize the frame to fit the imageNet default input size\n",
    "            frame_to_predict = cv2.resize(original_frame, (224, 224))\n",
    "\n",
    "            #print 'Putting label and score'\n",
    "            # Add text label and network score to the video captue\n",
    "            cv2.putText(original_frame, \"Label: %s | Score: %.2f\" % (label, score),\n",
    "                        (10, 30), cv2.FONT_HERSHEY_SIMPLEX, 0.9, (0, 255, 0), 2)\n",
    "            # Display the video\n",
    "            cv2.imshow(\"Classification\", original_frame)\n",
    "\n",
    "    # Hit q or esc key to exit\n",
    "    if (cv2.waitKey(1) & 0xFF == ord('q')):\n",
    "        break;\n",
    "\n",
    "    time.sleep(1)\n",
    "\n",
    "classification = False\n",
    "video_capture.release()\n",
    "cv2.destroyAllWindows()"
   ]
  }
 ],
 "metadata": {
  "kernelspec": {
   "display_name": "Python 2",
   "language": "python",
   "name": "python2"
  },
  "language_info": {
   "codemirror_mode": {
    "name": "ipython",
    "version": 2
   },
   "file_extension": ".py",
   "mimetype": "text/x-python",
   "name": "python",
   "nbconvert_exporter": "python",
   "pygments_lexer": "ipython2",
   "version": "2.7.14"
  }
 },
 "nbformat": 4,
 "nbformat_minor": 2
}
