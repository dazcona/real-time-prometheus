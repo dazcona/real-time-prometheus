{
 "cells": [
  {
   "cell_type": "markdown",
   "metadata": {},
   "source": [
    "# Keras Applications\n",
    "\n",
    "Keras Applications are deep learning models that are made available alongside pre-trained weights. These models can be used for prediction, feature extraction, and fine-tuning.\n",
    "\n",
    "https://keras.io/applications/#vgg16"
   ]
  },
  {
   "cell_type": "code",
   "execution_count": 32,
   "metadata": {
    "collapsed": true
   },
   "outputs": [],
   "source": [
    "import os\n",
    "import random\n",
    "from keras.preprocessing import image\n",
    "from keras.applications.vgg16 import VGG16\n",
    "from keras.applications.vgg16 import preprocess_input, decode_predictions\n",
    "import numpy as np"
   ]
  },
  {
   "cell_type": "code",
   "execution_count": 27,
   "metadata": {},
   "outputs": [],
   "source": [
    "folder = 'images/'\n",
    "files = [os.path.join(folder, f) for f in os.listdir(folder)]"
   ]
  },
  {
   "cell_type": "code",
   "execution_count": 28,
   "metadata": {},
   "outputs": [
    {
     "data": {
      "text/plain": [
       "['images/cheeseburger.jpg',\n",
       " 'images/electric-guitar.jpeg',\n",
       " 'images/elephant.jpg',\n",
       " 'images/guitar.jpg',\n",
       " 'images/watch.jpeg']"
      ]
     },
     "execution_count": 28,
     "metadata": {},
     "output_type": "execute_result"
    }
   ],
   "source": [
    "files"
   ]
  },
  {
   "cell_type": "code",
   "execution_count": 29,
   "metadata": {
    "collapsed": true
   },
   "outputs": [],
   "source": [
    "random.shuffle(files)"
   ]
  },
  {
   "cell_type": "code",
   "execution_count": 30,
   "metadata": {},
   "outputs": [],
   "source": [
    "model = VGG16(weights='imagenet')"
   ]
  },
  {
   "cell_type": "code",
   "execution_count": 31,
   "metadata": {},
   "outputs": [
    {
     "name": "stdout",
     "output_type": "stream",
     "text": [
      "Filename: images/elephant.jpg\n",
      "Predicted: [(u'n02504458', u'African_elephant', 0.48959517), (u'n01871265', u'tusker', 0.42258584), (u'n02504013', u'Indian_elephant', 0.082788527)]\n",
      "Filename: images/watch.jpeg\n",
      "Predicted: [(u'n02708093', u'analog_clock', 0.43039528), (u'n04328186', u'stopwatch', 0.3101804), (u'n03706229', u'magnetic_compass', 0.17038339)]\n",
      "Filename: images/electric-guitar.jpeg\n",
      "Predicted: [(u'n03272010', u'electric_guitar', 0.94948512), (u'n04536866', u'violin', 0.0086280201), (u'n02676566', u'acoustic_guitar', 0.0083173392)]\n",
      "Filename: images/cheeseburger.jpg\n",
      "Predicted: [(u'n07697313', u'cheeseburger', 0.9999193), (u'n07693725', u'bagel', 5.470448e-05), (u'n07734744', u'mushroom', 1.1145349e-05)]\n",
      "Filename: images/guitar.jpg\n",
      "Predicted: [(u'n02676566', u'acoustic_guitar', 0.8047393), (u'n03272010', u'electric_guitar', 0.17132582), (u'n02787622', u'banjo', 0.008413191)]\n"
     ]
    }
   ],
   "source": [
    "for filename in files:\n",
    "    print('Filename:', filename)\n",
    "    # Image\n",
    "    img = image.load_img(\n",
    "        filename, target_size=(224, 224))\n",
    "    # Pre-process\n",
    "    x = image.img_to_array(img)\n",
    "    x = np.expand_dims(x, axis=0)\n",
    "    x = preprocess_input(x)\n",
    "    # Predict\n",
    "    preds = model.predict(x)\n",
    "    # Decode\n",
    "    print('Predicted:', decode_predictions(preds, top=3)[0])\n",
    "    print"
   ]
  }
 ],
 "metadata": {
  "kernelspec": {
   "display_name": "Python 2",
   "language": "python",
   "name": "python2"
  },
  "language_info": {
   "codemirror_mode": {
    "name": "ipython",
    "version": 2
   },
   "file_extension": ".py",
   "mimetype": "text/x-python",
   "name": "python",
   "nbconvert_exporter": "python",
   "pygments_lexer": "ipython2",
   "version": "2.7.14"
  }
 },
 "nbformat": 4,
 "nbformat_minor": 2
}
